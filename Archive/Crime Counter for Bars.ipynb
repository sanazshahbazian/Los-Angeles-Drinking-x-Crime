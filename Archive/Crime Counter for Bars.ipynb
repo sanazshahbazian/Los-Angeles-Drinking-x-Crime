{
 "cells": [
  {
   "cell_type": "code",
   "execution_count": null,
   "metadata": {},
   "outputs": [],
   "source": [
    "# !pip install geopy\n",
    "import pandas as pd\n",
    "import geopy.distance\n",
    "import re\n",
    "def is_inside_radius(t1, t2, radius):\n",
    "    dist = geopy.distance.distance(t1, t2).mi\n",
    "    if dist <= radius:\n",
    "        return True\n",
    "    return False"
   ]
  },
  {
   "cell_type": "code",
   "execution_count": null,
   "metadata": {},
   "outputs": [],
   "source": [
    "is_inside_radius((34.1016, -118.3962), (34.1016, -118.3964), 2)"
   ]
  },
  {
   "cell_type": "code",
   "execution_count": 2,
   "metadata": {},
   "outputs": [
    {
     "ename": "NameError",
     "evalue": "name 'bars' is not defined",
     "output_type": "error",
     "traceback": [
      "\u001b[1;31m---------------------------------------------------------------------------\u001b[0m",
      "\u001b[1;31mNameError\u001b[0m                                 Traceback (most recent call last)",
      "\u001b[1;32m<ipython-input-2-da8c3a0459ee>\u001b[0m in \u001b[0;36m<module>\u001b[1;34m\u001b[0m\n\u001b[0;32m      3\u001b[0m \u001b[1;33m\u001b[0m\u001b[0m\n\u001b[0;32m      4\u001b[0m \u001b[1;31m# if crime is less than or 2 miles away from bar, then add 1 to the bar's # of crimes\u001b[0m\u001b[1;33m\u001b[0m\u001b[1;33m\u001b[0m\u001b[1;33m\u001b[0m\u001b[0m\n\u001b[1;32m----> 5\u001b[1;33m \u001b[1;32mfor\u001b[0m \u001b[0mbar\u001b[0m \u001b[1;32min\u001b[0m \u001b[0mbars\u001b[0m\u001b[1;33m:\u001b[0m\u001b[1;33m\u001b[0m\u001b[1;33m\u001b[0m\u001b[0m\n\u001b[0m\u001b[0;32m      6\u001b[0m     \u001b[1;32mfor\u001b[0m \u001b[0mcrime\u001b[0m \u001b[1;32min\u001b[0m \u001b[0mcrimes\u001b[0m\u001b[1;33m:\u001b[0m\u001b[1;33m\u001b[0m\u001b[1;33m\u001b[0m\u001b[0m\n\u001b[0;32m      7\u001b[0m         \u001b[1;32mif\u001b[0m \u001b[0mdistance\u001b[0m \u001b[1;33m<=\u001b[0m \u001b[1;36m2\u001b[0m\u001b[1;33m:\u001b[0m\u001b[1;33m\u001b[0m\u001b[1;33m\u001b[0m\u001b[0m\n",
      "\u001b[1;31mNameError\u001b[0m: name 'bars' is not defined"
     ]
    }
   ],
   "source": [
    "crime_counter_list = []\n",
    "i = 0\n",
    "\n",
    "# if crime is less than or 2 miles away from bar, then add 1 to the bar's # of crimes\n",
    "for bar in bars:\n",
    "    for crime in crimes:\n",
    "        if distance = \"True\":\n",
    "            i = i + 1\n",
    "    crime_counter_list.append(i)\n",
    "    i = 0\n",
    "    \n",
    "df[\"count of crimes\"] = crime_counter_list\n",
    "                "
   ]
  },
  {
   "cell_type": "code",
   "execution_count": null,
   "metadata": {},
   "outputs": [],
   "source": [
    "# count number of bars at each price point\n",
    "onedollar_bars = 0\n",
    "twodollar_bars = 0\n",
    "threedollar_bars = 0\n",
    "fourdollar_bars = 0\n",
    "\n",
    "for bar in bars:\n",
    "    if price = \"$\":\n",
    "        onedollar_bars = onedollar_bars + 1\n",
    "    elif price = \"$$\":\n",
    "        twodollar_bars = twodollar_bars + 1\n",
    "    elif price = \"$$$\":\n",
    "        threedollar_bars = threedollar_bars + 1\n",
    "    elif price = \"$$$$\":\n",
    "        fourdollar_bars = fourdollar_bars + 1\n",
    "\n",
    "# add up number of crimes around bars in each price point\n",
    "if price = \"$\":\n",
    "    onedollar_crimes = sum of countofcrimes\n",
    "if price = \"$$\":\n",
    "    twodollar_crimes = sum of countofcrimes\n",
    "if price = \"$$$\":\n",
    "    threedollar_crimes = sum of countofcrimes\n",
    "if price = \"$$$$\":\n",
    "    fourdollar_crimes = sum of countofcrimes\n",
    "    \n",
    "\n"
   ]
  }
 ],
 "metadata": {
  "kernelspec": {
   "display_name": "Python 3",
   "language": "python",
   "name": "python3"
  },
  "language_info": {
   "codemirror_mode": {
    "name": "ipython",
    "version": 3
   },
   "file_extension": ".py",
   "mimetype": "text/x-python",
   "name": "python",
   "nbconvert_exporter": "python",
   "pygments_lexer": "ipython3",
   "version": "3.7.4"
  }
 },
 "nbformat": 4,
 "nbformat_minor": 2
}
